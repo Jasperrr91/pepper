{
 "cells": [
  {
   "cell_type": "code",
   "execution_count": 4,
   "metadata": {},
   "outputs": [],
   "source": [
    "from sklearn.neighbors import KNeighborsClassifier\n",
    "from sklearn.model_selection import train_test_split, cross_val_score\n",
    "import numpy as np\n",
    "import os"
   ]
  },
  {
   "cell_type": "code",
   "execution_count": 74,
   "metadata": {},
   "outputs": [],
   "source": [
    "class PeopleClassifier:\n",
    "    \n",
    "    FEATURE_DIM = 128\n",
    "    \n",
    "    def __init__(self, people, n_neighbors = 20):\n",
    "        self._people = people\n",
    "        self._names = sorted(people.keys())\n",
    "        self._indices = range(len(self._names))\n",
    "        \n",
    "        self._labels = np.concatenate([[index]*len(people[name]) for name, index in zip(self._names, self._indices)])\n",
    "        self._features = np.concatenate([people[name] for name in self._names])\n",
    "        \n",
    "        self._classifier = KNeighborsClassifier(n_neighbors)\n",
    "        self._classifier.fit(self._features, self._labels)\n",
    "        \n",
    "    @property\n",
    "    def people():\n",
    "        return self._people\n",
    "    \n",
    "    def classify(self, face):\n",
    "        distances, indices = self._classifier.kneighbors(face)\n",
    "        labels = self._labels[indices]\n",
    "        label = np.bincount(labels).argmax()\n",
    "        name = self._names[label]\n",
    "        confidence = np.mean(labels == label)\n",
    "        distance = np.mean(distances[labels == label])\n",
    "        return name, confidence, distance\n",
    "        \n",
    "    def accuracy(self):\n",
    "        return np.mean(cross_val_score(self._classifier, self._features, self._labels, cv=5))\n",
    "    \n",
    "    @classmethod\n",
    "    def from_directory(cls, directory):\n",
    "        return cls(PeopleClassifier.load_directory(directory))\n",
    "    \n",
    "    @staticmethod\n",
    "    def load_directory(directory):\n",
    "        people = {}\n",
    "        for path in os.listdir(directory):\n",
    "            name = os.path.splitext(path)[0]\n",
    "            features = np.fromfile(os.path.join(directory, path), np.float32).reshape(-1, PeopleClassifier.FEATURE_DIM)\n",
    "            people[name] = features\n",
    "        return people"
   ]
  },
  {
   "cell_type": "code",
   "execution_count": 81,
   "metadata": {},
   "outputs": [
    {
     "name": "stdout",
     "output_type": "stream",
     "text": [
      "(128,)\n"
     ]
    },
    {
     "ename": "TypeError",
     "evalue": "classify() missing 1 required positional argument: 'face'",
     "output_type": "error",
     "traceback": [
      "\u001b[1;31m---------------------------------------------------------------------------\u001b[0m",
      "\u001b[1;31mTypeError\u001b[0m                                 Traceback (most recent call last)",
      "\u001b[1;32m<ipython-input-81-a2f6ec71b8b1>\u001b[0m in \u001b[0;36m<module>\u001b[1;34m()\u001b[0m\n\u001b[0;32m      5\u001b[0m \u001b[1;33m\u001b[0m\u001b[0m\n\u001b[0;32m      6\u001b[0m \u001b[0mprint\u001b[0m\u001b[1;33m(\u001b[0m\u001b[0mPeopleClassifier\u001b[0m\u001b[1;33m.\u001b[0m\u001b[0mload_directory\u001b[0m\u001b[1;33m(\u001b[0m\u001b[0mPATH\u001b[0m\u001b[1;33m)\u001b[0m\u001b[1;33m[\u001b[0m\u001b[1;34m'Bram'\u001b[0m\u001b[1;33m]\u001b[0m\u001b[1;33m[\u001b[0m\u001b[1;36m0\u001b[0m\u001b[1;33m]\u001b[0m\u001b[1;33m.\u001b[0m\u001b[0mshape\u001b[0m\u001b[1;33m)\u001b[0m\u001b[1;33m\u001b[0m\u001b[0m\n\u001b[1;32m----> 7\u001b[1;33m \u001b[0mclassifier\u001b[0m\u001b[1;33m.\u001b[0m\u001b[0mclassify\u001b[0m\u001b[1;33m(\u001b[0m\u001b[1;33m)\u001b[0m\u001b[1;33m\u001b[0m\u001b[0m\n\u001b[0m",
      "\u001b[1;31mTypeError\u001b[0m: classify() missing 1 required positional argument: 'face'"
     ]
    }
   ],
   "source": [
    "PATH = r'C:\\Users\\Bram\\Documents\\Pepper\\pepper\\pepper\\people\\leolani'\n",
    "\n",
    "classifier = PeopleClassifier.from_directory(PATH)\n",
    "classifier.accuracy()\n",
    "\n",
    "print(PeopleClassifier.load_directory(PATH)['Bram'][0].reshape(-1, 128))\n",
    "classifier.classify()"
   ]
  }
 ],
 "metadata": {
  "kernelspec": {
   "display_name": "Python 3",
   "language": "python",
   "name": "python3"
  },
  "language_info": {
   "codemirror_mode": {
    "name": "ipython",
    "version": 3
   },
   "file_extension": ".py",
   "mimetype": "text/x-python",
   "name": "python",
   "nbconvert_exporter": "python",
   "pygments_lexer": "ipython3",
   "version": "3.6.1"
  }
 },
 "nbformat": 4,
 "nbformat_minor": 2
}
