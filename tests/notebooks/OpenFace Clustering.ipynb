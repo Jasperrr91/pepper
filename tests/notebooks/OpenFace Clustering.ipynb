{
 "cells": [
  {
   "cell_type": "code",
   "execution_count": 1,
   "metadata": {
    "collapsed": true
   },
   "outputs": [],
   "source": [
    "import numpy as np\n",
    "import matplotlib.pyplot as plt"
   ]
  },
  {
   "cell_type": "code",
   "execution_count": 2,
   "metadata": {},
   "outputs": [
    {
     "name": "stdout",
     "output_type": "stream",
     "text": [
      "11 42.90909090909091\n"
     ]
    }
   ],
   "source": [
    "from sklearn.preprocessing import LabelEncoder\n",
    "\n",
    "DIR = '../data/imdb/'\n",
    "\n",
    "FEATURES_PATH = DIR + 'matrix.bin'\n",
    "NAMES_PATH = DIR + 'names.txt'\n",
    "\n",
    "# Load Files\n",
    "FILE_LIMIT = 44500\n",
    "FEATURES = np.fromfile(FEATURES_PATH, np.float32).reshape(-1, 128)[:FILE_LIMIT]\n",
    "with open(NAMES_PATH, encoding='utf-8') as names_file:\n",
    "    NAMES = names_file.read().split(\"\\n\")[:FILE_LIMIT]\n",
    "\n",
    "label_encoder = LabelEncoder()\n",
    "LABELS = label_encoder.fit_transform(NAMES)\n",
    "\n",
    "# Bound By Number of Samples\n",
    "MIN_SAMPLES = 40\n",
    "MAX_SAMPLES = 45\n",
    "unique, counts = np.unique(LABELS, return_counts=True)\n",
    "COUNTS = counts[LABELS]\n",
    "SELECTION = np.logical_and(COUNTS > MIN_SAMPLES, COUNTS < MAX_SAMPLES)\n",
    "\n",
    "FEATURES = FEATURES[SELECTION]\n",
    "LABELS = LABELS[SELECTION]\n",
    "N_PERSONS = len(set(LABELS))\n",
    "\n",
    "print(N_PERSONS, len(FEATURES) / N_PERSONS)"
   ]
  },
  {
   "cell_type": "code",
   "execution_count": 70,
   "metadata": {},
   "outputs": [
    {
     "name": "stdout",
     "output_type": "stream",
     "text": [
      "Cross Validation Accuracy: 0.69 (+/- 0.03)\n",
      "0.9444444444444444\n"
     ]
    }
   ],
   "source": [
    "from sklearn.model_selection import train_test_split\n",
    "from sklearn.neighbors import KNeighborsClassifier\n",
    "from sklearn.model_selection import cross_val_score\n",
    "from sklearn import metrics\n",
    "\n",
    "\n",
    "classifier = KNeighborsClassifier(20)\n",
    "\n",
    "# Cross Validation Score\n",
    "scores = cross_val_score(classifier, FEATURES, LABELS, cv=3)\n",
    "print(\"Cross Validation Accuracy: %0.2f (+/- %0.2f)\" % (scores.mean(), scores.std() * 2))\n",
    "\n",
    "\n",
    "FEATURES_TRAIN, FEATURES_TEST, LABELS_TRAIN, LABELS_TEST = train_test_split(FEATURES, LABELS, test_size=0.2)\n",
    "classifier.fit(FEATURES_TRAIN, LABELS_TRAIN)\n",
    "\n",
    "correct = 0.0\n",
    "total = 0.0\n",
    "\n",
    "for distances, indices, truth in zip(*classifier.kneighbors(FEATURES_TEST), LABELS_TEST):\n",
    "    labels = LABELS_TRAIN[indices]\n",
    "    label = np.bincount(labels).argmax()\n",
    "    confidence = np.mean(labels == label)\n",
    "    distance = np.mean(distances[labels == label])\n",
    "    \n",
    "#     print(label, confidence, distance)\n",
    "    \n",
    "    if confidence > 0.8:\n",
    "        total += 1\n",
    "        correct += label == truth\n",
    "        \n",
    "\n",
    "print(correct / total)"
   ]
  }
 ],
 "metadata": {
  "kernelspec": {
   "display_name": "Python 3",
   "language": "python",
   "name": "python3"
  },
  "language_info": {
   "codemirror_mode": {
    "name": "ipython",
    "version": 3
   },
   "file_extension": ".py",
   "mimetype": "text/x-python",
   "name": "python",
   "nbconvert_exporter": "python",
   "pygments_lexer": "ipython3",
   "version": "3.6.1"
  }
 },
 "nbformat": 4,
 "nbformat_minor": 2
}
